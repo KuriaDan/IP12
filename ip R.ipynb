{
 "cells": [
  {
   "cell_type": "markdown",
   "metadata": {},
   "source": [
    "## 2.0 Setting up the work environment"
   ]
  },
  {
   "cell_type": "code",
   "execution_count": 15,
   "metadata": {
    "scrolled": true
   },
   "outputs": [],
   "source": [
    "# Clear the env\n",
    "rm(list = ls())\n",
    "# List of packages\n",
    "package_list <- c(\"tidyverse\", \"lubridate\", \"readxl\", \"tidyr\", \"Hmisc\", \"skimr\",\n",
    "                  \"ggcorrplot\",\"caret\", \"caretEnsemble\", \"PerformanceAnalytics\",\n",
    "                  \"kableExtra\", \"kernlab\", \"randomForest\", \"xgboost\")\n",
    "\n",
    "# Load/Install packages\n",
    "suppressMessages(pacman::p_load(package_list, character.only = TRUE))\n",
    "\n"
   ]
  },
  {
   "cell_type": "code",
   "execution_count": 17,
   "metadata": {},
   "outputs": [],
   "source": [
    "# Loading the data.\n",
    "# Choosing the file interactively and saving the file location in the variable f\n",
    "f <- file.choose()"
   ]
  },
  {
   "cell_type": "code",
   "execution_count": 18,
   "metadata": {},
   "outputs": [],
   "source": [
    "# Loading the data into the notebook\n",
    "# Import the datasets\n",
    "ads_tbl <- suppressWarnings(suppressMessages(read_csv(f))) %>% as_tibble()"
   ]
  },
  {
   "cell_type": "code",
   "execution_count": 19,
   "metadata": {
    "scrolled": false
   },
   "outputs": [
    {
     "data": {
      "text/html": [
       "<table>\n",
       "<thead><tr><th scope=col>Daily Time Spent on Site</th><th scope=col>Age</th><th scope=col>Area Income</th><th scope=col>Daily Internet Usage</th><th scope=col>Ad Topic Line</th><th scope=col>City</th><th scope=col>Male</th><th scope=col>Country</th><th scope=col>Timestamp</th><th scope=col>Clicked on Ad</th></tr></thead>\n",
       "<tbody>\n",
       "\t<tr><td>68.95                                </td><td>35                                   </td><td>61833.90                             </td><td>256.09                               </td><td>Cloned 5thgeneration orchestration   </td><td>Wrightburgh                          </td><td>0                                    </td><td>Tunisia                              </td><td>2016-03-27 00:53:11                  </td><td>0                                    </td></tr>\n",
       "\t<tr><td>80.23                                </td><td>31                                   </td><td>68441.85                             </td><td>193.77                               </td><td>Monitored national standardization   </td><td>West Jodi                            </td><td>1                                    </td><td>Nauru                                </td><td>2016-04-04 01:39:02                  </td><td>0                                    </td></tr>\n",
       "\t<tr><td>69.47                                </td><td>26                                   </td><td>59785.94                             </td><td>236.50                               </td><td>Organic bottom-line service-desk     </td><td>Davidton                             </td><td>0                                    </td><td>San Marino                           </td><td>2016-03-13 20:35:42                  </td><td>0                                    </td></tr>\n",
       "\t<tr><td>74.15                                </td><td>29                                   </td><td>54806.18                             </td><td>245.89                               </td><td>Triple-buffered reciprocal time-frame</td><td>West Terrifurt                       </td><td>1                                    </td><td>Italy                                </td><td>2016-01-10 02:31:19                  </td><td>0                                    </td></tr>\n",
       "\t<tr><td>68.37                                </td><td>35                                   </td><td>73889.99                             </td><td>225.58                               </td><td>Robust logistical utilization        </td><td>South Manuel                         </td><td>0                                    </td><td>Iceland                              </td><td>2016-06-03 03:36:18                  </td><td>0                                    </td></tr>\n",
       "\t<tr><td>59.99                                </td><td>23                                   </td><td>59761.56                             </td><td>226.74                               </td><td>Sharable client-driven software      </td><td>Jamieberg                            </td><td>1                                    </td><td>Norway                               </td><td>2016-05-19 14:30:17                  </td><td>0                                    </td></tr>\n",
       "</tbody>\n",
       "</table>\n"
      ],
      "text/latex": [
       "\\begin{tabular}{r|llllllllll}\n",
       " Daily Time Spent on Site & Age & Area Income & Daily Internet Usage & Ad Topic Line & City & Male & Country & Timestamp & Clicked on Ad\\\\\n",
       "\\hline\n",
       "\t 68.95                                 & 35                                    & 61833.90                              & 256.09                                & Cloned 5thgeneration orchestration    & Wrightburgh                           & 0                                     & Tunisia                               & 2016-03-27 00:53:11                   & 0                                    \\\\\n",
       "\t 80.23                                 & 31                                    & 68441.85                              & 193.77                                & Monitored national standardization    & West Jodi                             & 1                                     & Nauru                                 & 2016-04-04 01:39:02                   & 0                                    \\\\\n",
       "\t 69.47                                 & 26                                    & 59785.94                              & 236.50                                & Organic bottom-line service-desk      & Davidton                              & 0                                     & San Marino                            & 2016-03-13 20:35:42                   & 0                                    \\\\\n",
       "\t 74.15                                 & 29                                    & 54806.18                              & 245.89                                & Triple-buffered reciprocal time-frame & West Terrifurt                        & 1                                     & Italy                                 & 2016-01-10 02:31:19                   & 0                                    \\\\\n",
       "\t 68.37                                 & 35                                    & 73889.99                              & 225.58                                & Robust logistical utilization         & South Manuel                          & 0                                     & Iceland                               & 2016-06-03 03:36:18                   & 0                                    \\\\\n",
       "\t 59.99                                 & 23                                    & 59761.56                              & 226.74                                & Sharable client-driven software       & Jamieberg                             & 1                                     & Norway                                & 2016-05-19 14:30:17                   & 0                                    \\\\\n",
       "\\end{tabular}\n"
      ],
      "text/markdown": [
       "\n",
       "| Daily Time Spent on Site | Age | Area Income | Daily Internet Usage | Ad Topic Line | City | Male | Country | Timestamp | Clicked on Ad |\n",
       "|---|---|---|---|---|---|---|---|---|---|\n",
       "| 68.95                                 | 35                                    | 61833.90                              | 256.09                                | Cloned 5thgeneration orchestration    | Wrightburgh                           | 0                                     | Tunisia                               | 2016-03-27 00:53:11                   | 0                                     |\n",
       "| 80.23                                 | 31                                    | 68441.85                              | 193.77                                | Monitored national standardization    | West Jodi                             | 1                                     | Nauru                                 | 2016-04-04 01:39:02                   | 0                                     |\n",
       "| 69.47                                 | 26                                    | 59785.94                              | 236.50                                | Organic bottom-line service-desk      | Davidton                              | 0                                     | San Marino                            | 2016-03-13 20:35:42                   | 0                                     |\n",
       "| 74.15                                 | 29                                    | 54806.18                              | 245.89                                | Triple-buffered reciprocal time-frame | West Terrifurt                        | 1                                     | Italy                                 | 2016-01-10 02:31:19                   | 0                                     |\n",
       "| 68.37                                 | 35                                    | 73889.99                              | 225.58                                | Robust logistical utilization         | South Manuel                          | 0                                     | Iceland                               | 2016-06-03 03:36:18                   | 0                                     |\n",
       "| 59.99                                 | 23                                    | 59761.56                              | 226.74                                | Sharable client-driven software       | Jamieberg                             | 1                                     | Norway                                | 2016-05-19 14:30:17                   | 0                                     |\n",
       "\n"
      ],
      "text/plain": [
       "  Daily Time Spent on Site Age Area Income Daily Internet Usage\n",
       "1 68.95                    35  61833.90    256.09              \n",
       "2 80.23                    31  68441.85    193.77              \n",
       "3 69.47                    26  59785.94    236.50              \n",
       "4 74.15                    29  54806.18    245.89              \n",
       "5 68.37                    35  73889.99    225.58              \n",
       "6 59.99                    23  59761.56    226.74              \n",
       "  Ad Topic Line                         City           Male Country   \n",
       "1 Cloned 5thgeneration orchestration    Wrightburgh    0    Tunisia   \n",
       "2 Monitored national standardization    West Jodi      1    Nauru     \n",
       "3 Organic bottom-line service-desk      Davidton       0    San Marino\n",
       "4 Triple-buffered reciprocal time-frame West Terrifurt 1    Italy     \n",
       "5 Robust logistical utilization         South Manuel   0    Iceland   \n",
       "6 Sharable client-driven software       Jamieberg      1    Norway    \n",
       "  Timestamp           Clicked on Ad\n",
       "1 2016-03-27 00:53:11 0            \n",
       "2 2016-04-04 01:39:02 0            \n",
       "3 2016-03-13 20:35:42 0            \n",
       "4 2016-01-10 02:31:19 0            \n",
       "5 2016-06-03 03:36:18 0            \n",
       "6 2016-05-19 14:30:17 0            "
      ]
     },
     "metadata": {},
     "output_type": "display_data"
    }
   ],
   "source": [
    "# Previewing the top of the dataset\n",
    "head(ads_tbl)"
   ]
  },
  {
   "cell_type": "code",
   "execution_count": 12,
   "metadata": {
    "scrolled": false
   },
   "outputs": [
    {
     "name": "stdout",
     "output_type": "stream",
     "text": [
      "Observations: 1,000\n",
      "Variables: 10\n",
      "$ `Daily Time Spent on Site` <dbl> 68.95, 80.23, 69.47, 74.15, 68.37, 59.99...\n",
      "$ Age                        <dbl> 35, 31, 26, 29, 35, 23, 33, 48, 30, 20, ...\n",
      "$ `Area Income`              <dbl> 61833.90, 68441.85, 59785.94, 54806.18, ...\n",
      "$ `Daily Internet Usage`     <dbl> 256.09, 193.77, 236.50, 245.89, 225.58, ...\n",
      "$ `Ad Topic Line`            <chr> \"Cloned 5thgeneration orchestration\", \"M...\n",
      "$ City                       <chr> \"Wrightburgh\", \"West Jodi\", \"Davidton\", ...\n",
      "$ Male                       <dbl> 0, 1, 0, 1, 0, 1, 0, 1, 1, 1, 0, 1, 1, 0...\n",
      "$ Country                    <chr> \"Tunisia\", \"Nauru\", \"San Marino\", \"Italy...\n",
      "$ Timestamp                  <dttm> 2016-03-27 00:53:11, 2016-04-04 01:39:0...\n",
      "$ `Clicked on Ad`            <dbl> 0, 0, 0, 0, 0, 0, 0, 1, 0, 0, 1, 0, 1, 0...\n"
     ]
    }
   ],
   "source": [
    "## Exploring the variables\n",
    "ads_tbl %>% glimpse()"
   ]
  },
  {
   "cell_type": "markdown",
   "metadata": {},
   "source": [
    "> The data consists of 10 variables and 1000 observations. The numeric variables have an appropriate data types and the string variable also haveappropriate data types too."
   ]
  },
  {
   "cell_type": "code",
   "execution_count": 13,
   "metadata": {
    "scrolled": false
   },
   "outputs": [
    {
     "data": {
      "text/plain": [
       "ads_tbl \n",
       "\n",
       " 10  Variables      1000  Observations\n",
       "--------------------------------------------------------------------------------\n",
       "Daily Time Spent on Site \n",
       "       n  missing distinct     Info     Mean      Gmd      .05      .10 \n",
       "    1000        0      900        1       65    18.11    37.58    41.34 \n",
       "     .25      .50      .75      .90      .95 \n",
       "   51.36    68.22    78.55    83.89    86.20 \n",
       "\n",
       "lowest : 32.60 32.84 32.91 32.99 33.21, highest: 90.97 91.10 91.15 91.37 91.43\n",
       "--------------------------------------------------------------------------------\n",
       "Age \n",
       "       n  missing distinct     Info     Mean      Gmd      .05      .10 \n",
       "    1000        0       43    0.999    36.01    9.943    23.95    26.00 \n",
       "     .25      .50      .75      .90      .95 \n",
       "   29.00    35.00    42.00    49.00    52.00 \n",
       "\n",
       "lowest : 19 20 21 22 23, highest: 57 58 59 60 61\n",
       "--------------------------------------------------------------------------------\n",
       "Area Income \n",
       "       n  missing distinct     Info     Mean      Gmd      .05      .10 \n",
       "    1000        0     1000        1    55000    15037    28275    35223 \n",
       "     .25      .50      .75      .90      .95 \n",
       "   47032    57012    65471    70506    73601 \n",
       "\n",
       "lowest : 13996.50 14548.06 14775.50 15598.29 15879.10\n",
       "highest: 78092.95 78119.50 78520.99 79332.33 79484.80\n",
       "--------------------------------------------------------------------------------\n",
       "Daily Internet Usage \n",
       "       n  missing distinct     Info     Mean      Gmd      .05      .10 \n",
       "    1000        0      966        1      180    50.63    113.5    120.5 \n",
       "     .25      .50      .75      .90      .95 \n",
       "   138.8    183.1    218.8    236.2    246.7 \n",
       "\n",
       "lowest : 104.78 105.00 105.04 105.15 105.22, highest: 259.76 261.02 261.52 267.01 269.96\n",
       "--------------------------------------------------------------------------------\n",
       "Ad Topic Line \n",
       "       n  missing distinct \n",
       "    1000        0     1000 \n",
       "\n",
       "lowest : Adaptive 24hour Graphic Interface       Adaptive asynchronous attitude          Adaptive context-sensitive application  Adaptive contextually-based methodology Adaptive demand-driven knowledgebase   \n",
       "highest: Visionary client-driven installation    Visionary maximized process improvement Visionary mission-critical application  Visionary multi-tasking alliance        Visionary reciprocal circuit           \n",
       "--------------------------------------------------------------------------------\n",
       "City \n",
       "       n  missing distinct \n",
       "    1000        0      969 \n",
       "\n",
       "lowest : Adamsbury     Adamside      Adamsstad     Alanview      Alexanderfurt\n",
       "highest: Youngburgh    Youngfort     Yuton         Zacharystad   Zacharyton   \n",
       "--------------------------------------------------------------------------------\n",
       "Male \n",
       "       n  missing distinct     Info      Sum     Mean      Gmd \n",
       "    1000        0        2    0.749      481    0.481   0.4998 \n",
       "\n",
       "--------------------------------------------------------------------------------\n",
       "Country \n",
       "       n  missing distinct \n",
       "    1000        0      237 \n",
       "\n",
       "lowest : Afghanistan       Albania           Algeria           American Samoa    Andorra          \n",
       "highest: Wallis and Futuna Western Sahara    Yemen             Zambia            Zimbabwe         \n",
       "--------------------------------------------------------------------------------\n",
       "Timestamp \n",
       "                  n             missing            distinct                Info \n",
       "               1000                   0                1000                   1 \n",
       "               Mean                 Gmd                 .05                 .10 \n",
       "2016-04-10 10:34:06 1970-03-10 00:51:27 2016-01-09 03:30:24 2016-01-21 23:29:11 \n",
       "                .25                 .50                 .75                 .90 \n",
       "2016-02-18 02:55:42 2016-04-07 17:27:29 2016-05-31 03:18:14 2016-07-01 01:33:03 \n",
       "                .95 \n",
       "2016-07-13 07:53:41 \n",
       "\n",
       "lowest : 2016-01-01 02:52:10 2016-01-01 03:35:35 2016-01-01 05:31:22 2016-01-01 08:27:06 2016-01-01 15:14:24\n",
       "highest: 2016-07-23 05:21:39 2016-07-23 06:18:51 2016-07-23 11:46:28 2016-07-23 14:47:23 2016-07-24 00:22:16\n",
       "--------------------------------------------------------------------------------\n",
       "Clicked on Ad \n",
       "       n  missing distinct     Info      Sum     Mean      Gmd \n",
       "    1000        0        2     0.75      500      0.5   0.5005 \n",
       "\n",
       "--------------------------------------------------------------------------------"
      ]
     },
     "metadata": {},
     "output_type": "display_data"
    }
   ],
   "source": [
    "# Detailed statistics of the data.\n",
    "describe(ads_tbl)"
   ]
  },
  {
   "cell_type": "code",
   "execution_count": 21,
   "metadata": {},
   "outputs": [
    {
     "data": {
      "text/html": [
       "<ol class=list-inline>\n",
       "\t<li>'Daily.Time.Spent.on.Site'</li>\n",
       "\t<li>'Age'</li>\n",
       "\t<li>'Area.Income'</li>\n",
       "\t<li>'Daily.Internet.Usage'</li>\n",
       "\t<li>'Ad.Topic.Line'</li>\n",
       "\t<li>'City'</li>\n",
       "\t<li>'Male'</li>\n",
       "\t<li>'Country'</li>\n",
       "\t<li>'Timestamp'</li>\n",
       "\t<li>'Clicked.on.Ad'</li>\n",
       "</ol>\n"
      ],
      "text/latex": [
       "\\begin{enumerate*}\n",
       "\\item 'Daily.Time.Spent.on.Site'\n",
       "\\item 'Age'\n",
       "\\item 'Area.Income'\n",
       "\\item 'Daily.Internet.Usage'\n",
       "\\item 'Ad.Topic.Line'\n",
       "\\item 'City'\n",
       "\\item 'Male'\n",
       "\\item 'Country'\n",
       "\\item 'Timestamp'\n",
       "\\item 'Clicked.on.Ad'\n",
       "\\end{enumerate*}\n"
      ],
      "text/markdown": [
       "1. 'Daily.Time.Spent.on.Site'\n",
       "2. 'Age'\n",
       "3. 'Area.Income'\n",
       "4. 'Daily.Internet.Usage'\n",
       "5. 'Ad.Topic.Line'\n",
       "6. 'City'\n",
       "7. 'Male'\n",
       "8. 'Country'\n",
       "9. 'Timestamp'\n",
       "10. 'Clicked.on.Ad'\n",
       "\n",
       "\n"
      ],
      "text/plain": [
       " [1] \"Daily.Time.Spent.on.Site\" \"Age\"                     \n",
       " [3] \"Area.Income\"              \"Daily.Internet.Usage\"    \n",
       " [5] \"Ad.Topic.Line\"            \"City\"                    \n",
       " [7] \"Male\"                     \"Country\"                 \n",
       " [9] \"Timestamp\"                \"Clicked.on.Ad\"           "
      ]
     },
     "metadata": {},
     "output_type": "display_data"
    }
   ],
   "source": [
    "names(ads_tbl) <- gsub(\" \", \".\", names(ads_tbl))\n",
    "names(ads_tbl)"
   ]
  },
  {
   "cell_type": "code",
   "execution_count": null,
   "metadata": {},
   "outputs": [],
   "source": [
    "summarise_at(group_by(ads_tbl, ))"
   ]
  },
  {
   "cell_type": "code",
   "execution_count": 22,
   "metadata": {},
   "outputs": [
    {
     "data": {
      "image/png": "[encoded data removed]",
      "text/plain": [
       "plot without title"
      ]
     },
     "metadata": {},
     "output_type": "display_data"
    }
   ],
   "source": [
    "#Checking for outliers\n",
    "boxplot(ads$Age)"
   ]
  },
  {
   "cell_type": "code",
   "execution_count": 23,
   "metadata": {
    "scrolled": true
   },
   "outputs": [
    {
     "data": {
      "image/png": "[encoded data removed]",
      "text/plain": [
       "plot without title"
      ]
     },
     "metadata": {},
     "output_type": "display_data"
    }
   ],
   "source": [
    "boxplot(ads$Area.Income)"
   ]
  },
  {
   "cell_type": "code",
   "execution_count": 24,
   "metadata": {},
   "outputs": [
    {
     "data": {
      "image/png": "[encoded data removed]",
      "text/plain": [
       "plot without title"
      ]
     },
     "metadata": {},
     "output_type": "display_data"
    }
   ],
   "source": [
    "boxplot(ads$Daily.Internet.Usage)"
   ]
  },
  {
   "cell_type": "code",
   "execution_count": 25,
   "metadata": {},
   "outputs": [
    {
     "data": {
      "image/png": "[encoded data removed]",
      "text/plain": [
       "plot without title"
      ]
     },
     "metadata": {},
     "output_type": "display_data"
    }
   ],
   "source": [
    "boxplot(ads$Daily.Time.Spent.on.Site)"
   ]
  },
  {
   "cell_type": "code",
   "execution_count": 30,
   "metadata": {
    "scrolled": true
   },
   "outputs": [
    {
     "data": {
      "image/png": "[encoded data removed]",
      "text/plain": [
       "plot without title"
      ]
     },
     "metadata": {},
     "output_type": "display_data"
    }
   ],
   "source": [
    "# Histogram of Age column to show the distribution of respondents.\n",
    "ggplot(data = ads) +\n",
    "  geom_histogram(mapping = aes(x = Age), bins = 15)"
   ]
  },
  {
   "cell_type": "code",
   "execution_count": 32,
   "metadata": {},
   "outputs": [
    {
     "data": {
      "image/png": "[encoded data removed]",
      "text/plain": [
       "plot without title"
      ]
     },
     "metadata": {},
     "output_type": "display_data"
    }
   ],
   "source": [
    "ggplot(data = ads) +\n",
    "  geom_histogram(mapping = aes(x = Daily.Time.Spent.on.Site), bins = 15)"
   ]
  },
  {
   "cell_type": "code",
   "execution_count": 34,
   "metadata": {},
   "outputs": [
    {
     "data": {
      "image/png": "[encoded data removed]",
      "text/plain": [
       "plot without title"
      ]
     },
     "metadata": {},
     "output_type": "display_data"
    }
   ],
   "source": [
    "ggplot(data=ads) +\n",
    "    geom_histogram(mapping = aes(x = Daily.Internet.Usage), bins = 50)"
   ]
  },
  {
   "cell_type": "code",
   "execution_count": 53,
   "metadata": {
    "scrolled": false
   },
   "outputs": [
    {
     "data": {
      "text/html": [
       "<table>\n",
       "<thead><tr><th scope=col>Daily.Time.Spent.on.Site</th><th scope=col>Age</th><th scope=col>Area.Income</th><th scope=col>Daily.Internet.Usage</th><th scope=col>Ad.Topic.Line</th><th scope=col>City</th><th scope=col>Male</th><th scope=col>Country</th><th scope=col>Timestamp</th><th scope=col>Clicked.on.Ad</th></tr></thead>\n",
       "<tbody>\n",
       "\t<tr><td>68.95                                </td><td>35                                   </td><td>61833.90                             </td><td>256.09                               </td><td>Cloned 5thgeneration orchestration   </td><td>Wrightburgh                          </td><td>0                                    </td><td>Tunisia                              </td><td>2016-03-27 00:53:11                  </td><td>0                                    </td></tr>\n",
       "\t<tr><td>80.23                                </td><td>31                                   </td><td>68441.85                             </td><td>193.77                               </td><td>Monitored national standardization   </td><td>West Jodi                            </td><td>1                                    </td><td>Nauru                                </td><td>2016-04-04 01:39:02                  </td><td>0                                    </td></tr>\n",
       "\t<tr><td>69.47                                </td><td>26                                   </td><td>59785.94                             </td><td>236.50                               </td><td>Organic bottom-line service-desk     </td><td>Davidton                             </td><td>0                                    </td><td>San Marino                           </td><td>2016-03-13 20:35:42                  </td><td>0                                    </td></tr>\n",
       "\t<tr><td>74.15                                </td><td>29                                   </td><td>54806.18                             </td><td>245.89                               </td><td>Triple-buffered reciprocal time-frame</td><td>West Terrifurt                       </td><td>1                                    </td><td>Italy                                </td><td>2016-01-10 02:31:19                  </td><td>0                                    </td></tr>\n",
       "\t<tr><td>68.37                                </td><td>35                                   </td><td>73889.99                             </td><td>225.58                               </td><td>Robust logistical utilization        </td><td>South Manuel                         </td><td>0                                    </td><td>Iceland                              </td><td>2016-06-03 03:36:18                  </td><td>0                                    </td></tr>\n",
       "\t<tr><td>59.99                                </td><td>23                                   </td><td>59761.56                             </td><td>226.74                               </td><td>Sharable client-driven software      </td><td>Jamieberg                            </td><td>1                                    </td><td>Norway                               </td><td>2016-05-19 14:30:17                  </td><td>0                                    </td></tr>\n",
       "</tbody>\n",
       "</table>\n"
      ],
      "text/latex": [
       "\\begin{tabular}{r|llllllllll}\n",
       " Daily.Time.Spent.on.Site & Age & Area.Income & Daily.Internet.Usage & Ad.Topic.Line & City & Male & Country & Timestamp & Clicked.on.Ad\\\\\n",
       "\\hline\n",
       "\t 68.95                                 & 35                                    & 61833.90                              & 256.09                                & Cloned 5thgeneration orchestration    & Wrightburgh                           & 0                                     & Tunisia                               & 2016-03-27 00:53:11                   & 0                                    \\\\\n",
       "\t 80.23                                 & 31                                    & 68441.85                              & 193.77                                & Monitored national standardization    & West Jodi                             & 1                                     & Nauru                                 & 2016-04-04 01:39:02                   & 0                                    \\\\\n",
       "\t 69.47                                 & 26                                    & 59785.94                              & 236.50                                & Organic bottom-line service-desk      & Davidton                              & 0                                     & San Marino                            & 2016-03-13 20:35:42                   & 0                                    \\\\\n",
       "\t 74.15                                 & 29                                    & 54806.18                              & 245.89                                & Triple-buffered reciprocal time-frame & West Terrifurt                        & 1                                     & Italy                                 & 2016-01-10 02:31:19                   & 0                                    \\\\\n",
       "\t 68.37                                 & 35                                    & 73889.99                              & 225.58                                & Robust logistical utilization         & South Manuel                          & 0                                     & Iceland                               & 2016-06-03 03:36:18                   & 0                                    \\\\\n",
       "\t 59.99                                 & 23                                    & 59761.56                              & 226.74                                & Sharable client-driven software       & Jamieberg                             & 1                                     & Norway                                & 2016-05-19 14:30:17                   & 0                                    \\\\\n",
       "\\end{tabular}\n"
      ],
      "text/markdown": [
       "\n",
       "| Daily.Time.Spent.on.Site | Age | Area.Income | Daily.Internet.Usage | Ad.Topic.Line | City | Male | Country | Timestamp | Clicked.on.Ad |\n",
       "|---|---|---|---|---|---|---|---|---|---|\n",
       "| 68.95                                 | 35                                    | 61833.90                              | 256.09                                | Cloned 5thgeneration orchestration    | Wrightburgh                           | 0                                     | Tunisia                               | 2016-03-27 00:53:11                   | 0                                     |\n",
       "| 80.23                                 | 31                                    | 68441.85                              | 193.77                                | Monitored national standardization    | West Jodi                             | 1                                     | Nauru                                 | 2016-04-04 01:39:02                   | 0                                     |\n",
       "| 69.47                                 | 26                                    | 59785.94                              | 236.50                                | Organic bottom-line service-desk      | Davidton                              | 0                                     | San Marino                            | 2016-03-13 20:35:42                   | 0                                     |\n",
       "| 74.15                                 | 29                                    | 54806.18                              | 245.89                                | Triple-buffered reciprocal time-frame | West Terrifurt                        | 1                                     | Italy                                 | 2016-01-10 02:31:19                   | 0                                     |\n",
       "| 68.37                                 | 35                                    | 73889.99                              | 225.58                                | Robust logistical utilization         | South Manuel                          | 0                                     | Iceland                               | 2016-06-03 03:36:18                   | 0                                     |\n",
       "| 59.99                                 | 23                                    | 59761.56                              | 226.74                                | Sharable client-driven software       | Jamieberg                             | 1                                     | Norway                                | 2016-05-19 14:30:17                   | 0                                     |\n",
       "\n"
      ],
      "text/plain": [
       "  Daily.Time.Spent.on.Site Age Area.Income Daily.Internet.Usage\n",
       "1 68.95                    35  61833.90    256.09              \n",
       "2 80.23                    31  68441.85    193.77              \n",
       "3 69.47                    26  59785.94    236.50              \n",
       "4 74.15                    29  54806.18    245.89              \n",
       "5 68.37                    35  73889.99    225.58              \n",
       "6 59.99                    23  59761.56    226.74              \n",
       "  Ad.Topic.Line                         City           Male Country   \n",
       "1 Cloned 5thgeneration orchestration    Wrightburgh    0    Tunisia   \n",
       "2 Monitored national standardization    West Jodi      1    Nauru     \n",
       "3 Organic bottom-line service-desk      Davidton       0    San Marino\n",
       "4 Triple-buffered reciprocal time-frame West Terrifurt 1    Italy     \n",
       "5 Robust logistical utilization         South Manuel   0    Iceland   \n",
       "6 Sharable client-driven software       Jamieberg      1    Norway    \n",
       "  Timestamp           Clicked.on.Ad\n",
       "1 2016-03-27 00:53:11 0            \n",
       "2 2016-04-04 01:39:02 0            \n",
       "3 2016-03-13 20:35:42 0            \n",
       "4 2016-01-10 02:31:19 0            \n",
       "5 2016-06-03 03:36:18 0            \n",
       "6 2016-05-19 14:30:17 0            "
      ]
     },
     "metadata": {},
     "output_type": "display_data"
    }
   ],
   "source": [
    "head(ads)"
   ]
  },
  {
   "cell_type": "code",
   "execution_count": null,
   "metadata": {},
   "outputs": [],
   "source": [
    "# Grouped Bar Plot\n",
    "counts <- table(mtcars$vs, mtcars$gear)\n",
    "barplot(counts, main=\"Car Distribution by Gears and VS\",\n",
    "  xlab=\"Number of Gears\", col=c(\"darkblue\",\"red\"),\n",
    "  legend = rownames(counts), beside=TRUE)"
   ]
  },
  {
   "cell_type": "code",
   "execution_count": 64,
   "metadata": {},
   "outputs": [
    {
     "data": {
      "image/png": "[encoded data removed]",
      "text/plain": [
       "Plot with title \"countplot of if user clicked on ad\""
      ]
     },
     "metadata": {},
     "output_type": "display_data"
    }
   ],
   "source": [
    " counts = table(ads$Clicked.on.Ad)\n",
    "barplot(counts, main=\"countplot of if user clicked on ad\",\n",
    "       ylab=\"count\", col=c(\"green\"),\n",
    "       legend=rownames(counts), beside=TRUE)"
   ]
  },
  {
   "cell_type": "markdown",
   "metadata": {},
   "source": [
    "> From the countplot, the data is balanced as we have equal number of data points of people who clicked and didn't click on ads."
   ]
  },
  {
   "cell_type": "code",
   "execution_count": 65,
   "metadata": {},
   "outputs": [
    {
     "data": {
      "image/png": "[encoded data removed]",
      "text/plain": [
       "Plot with title \"countplot of the gender of users\""
      ]
     },
     "metadata": {},
     "output_type": "display_data"
    }
   ],
   "source": [
    "counts = table(ads$Male)\n",
    "barplot(counts, main=\"countplot of the gender of users\",\n",
    "       ylab=\"count\", col=c(\"cyan\"),\n",
    "       legend=rownames(counts), beside=TRUE)"
   ]
  },
  {
   "cell_type": "markdown",
   "metadata": {},
   "source": [
    "> From the countplot, we can conclude that the number of users that were female were slightly more than those that were male. "
   ]
  },
  {
   "cell_type": "code",
   "execution_count": 67,
   "metadata": {},
   "outputs": [
    {
     "data": {
      "text/html": [
       "<table>\n",
       "<thead><tr><th scope=col>Daily.Time.Spent.on.Site</th><th scope=col>Age</th><th scope=col>Area.Income</th><th scope=col>Daily.Internet.Usage</th><th scope=col>Ad.Topic.Line</th><th scope=col>City</th><th scope=col>Male</th><th scope=col>Country</th><th scope=col>Timestamp</th><th scope=col>Clicked.on.Ad</th></tr></thead>\n",
       "<tbody>\n",
       "\t<tr><td>68.95                                </td><td>35                                   </td><td>61833.90                             </td><td>256.09                               </td><td>Cloned 5thgeneration orchestration   </td><td>Wrightburgh                          </td><td>0                                    </td><td>Tunisia                              </td><td>2016-03-27 00:53:11                  </td><td>0                                    </td></tr>\n",
       "\t<tr><td>80.23                                </td><td>31                                   </td><td>68441.85                             </td><td>193.77                               </td><td>Monitored national standardization   </td><td>West Jodi                            </td><td>1                                    </td><td>Nauru                                </td><td>2016-04-04 01:39:02                  </td><td>0                                    </td></tr>\n",
       "\t<tr><td>69.47                                </td><td>26                                   </td><td>59785.94                             </td><td>236.50                               </td><td>Organic bottom-line service-desk     </td><td>Davidton                             </td><td>0                                    </td><td>San Marino                           </td><td>2016-03-13 20:35:42                  </td><td>0                                    </td></tr>\n",
       "\t<tr><td>74.15                                </td><td>29                                   </td><td>54806.18                             </td><td>245.89                               </td><td>Triple-buffered reciprocal time-frame</td><td>West Terrifurt                       </td><td>1                                    </td><td>Italy                                </td><td>2016-01-10 02:31:19                  </td><td>0                                    </td></tr>\n",
       "\t<tr><td>68.37                                </td><td>35                                   </td><td>73889.99                             </td><td>225.58                               </td><td>Robust logistical utilization        </td><td>South Manuel                         </td><td>0                                    </td><td>Iceland                              </td><td>2016-06-03 03:36:18                  </td><td>0                                    </td></tr>\n",
       "\t<tr><td>59.99                                </td><td>23                                   </td><td>59761.56                             </td><td>226.74                               </td><td>Sharable client-driven software      </td><td>Jamieberg                            </td><td>1                                    </td><td>Norway                               </td><td>2016-05-19 14:30:17                  </td><td>0                                    </td></tr>\n",
       "</tbody>\n",
       "</table>\n"
      ],
      "text/latex": [
       "\\begin{tabular}{r|llllllllll}\n",
       " Daily.Time.Spent.on.Site & Age & Area.Income & Daily.Internet.Usage & Ad.Topic.Line & City & Male & Country & Timestamp & Clicked.on.Ad\\\\\n",
       "\\hline\n",
       "\t 68.95                                 & 35                                    & 61833.90                              & 256.09                                & Cloned 5thgeneration orchestration    & Wrightburgh                           & 0                                     & Tunisia                               & 2016-03-27 00:53:11                   & 0                                    \\\\\n",
       "\t 80.23                                 & 31                                    & 68441.85                              & 193.77                                & Monitored national standardization    & West Jodi                             & 1                                     & Nauru                                 & 2016-04-04 01:39:02                   & 0                                    \\\\\n",
       "\t 69.47                                 & 26                                    & 59785.94                              & 236.50                                & Organic bottom-line service-desk      & Davidton                              & 0                                     & San Marino                            & 2016-03-13 20:35:42                   & 0                                    \\\\\n",
       "\t 74.15                                 & 29                                    & 54806.18                              & 245.89                                & Triple-buffered reciprocal time-frame & West Terrifurt                        & 1                                     & Italy                                 & 2016-01-10 02:31:19                   & 0                                    \\\\\n",
       "\t 68.37                                 & 35                                    & 73889.99                              & 225.58                                & Robust logistical utilization         & South Manuel                          & 0                                     & Iceland                               & 2016-06-03 03:36:18                   & 0                                    \\\\\n",
       "\t 59.99                                 & 23                                    & 59761.56                              & 226.74                                & Sharable client-driven software       & Jamieberg                             & 1                                     & Norway                                & 2016-05-19 14:30:17                   & 0                                    \\\\\n",
       "\\end{tabular}\n"
      ],
      "text/markdown": [
       "\n",
       "| Daily.Time.Spent.on.Site | Age | Area.Income | Daily.Internet.Usage | Ad.Topic.Line | City | Male | Country | Timestamp | Clicked.on.Ad |\n",
       "|---|---|---|---|---|---|---|---|---|---|\n",
       "| 68.95                                 | 35                                    | 61833.90                              | 256.09                                | Cloned 5thgeneration orchestration    | Wrightburgh                           | 0                                     | Tunisia                               | 2016-03-27 00:53:11                   | 0                                     |\n",
       "| 80.23                                 | 31                                    | 68441.85                              | 193.77                                | Monitored national standardization    | West Jodi                             | 1                                     | Nauru                                 | 2016-04-04 01:39:02                   | 0                                     |\n",
       "| 69.47                                 | 26                                    | 59785.94                              | 236.50                                | Organic bottom-line service-desk      | Davidton                              | 0                                     | San Marino                            | 2016-03-13 20:35:42                   | 0                                     |\n",
       "| 74.15                                 | 29                                    | 54806.18                              | 245.89                                | Triple-buffered reciprocal time-frame | West Terrifurt                        | 1                                     | Italy                                 | 2016-01-10 02:31:19                   | 0                                     |\n",
       "| 68.37                                 | 35                                    | 73889.99                              | 225.58                                | Robust logistical utilization         | South Manuel                          | 0                                     | Iceland                               | 2016-06-03 03:36:18                   | 0                                     |\n",
       "| 59.99                                 | 23                                    | 59761.56                              | 226.74                                | Sharable client-driven software       | Jamieberg                             | 1                                     | Norway                                | 2016-05-19 14:30:17                   | 0                                     |\n",
       "\n"
      ],
      "text/plain": [
       "  Daily.Time.Spent.on.Site Age Area.Income Daily.Internet.Usage\n",
       "1 68.95                    35  61833.90    256.09              \n",
       "2 80.23                    31  68441.85    193.77              \n",
       "3 69.47                    26  59785.94    236.50              \n",
       "4 74.15                    29  54806.18    245.89              \n",
       "5 68.37                    35  73889.99    225.58              \n",
       "6 59.99                    23  59761.56    226.74              \n",
       "  Ad.Topic.Line                         City           Male Country   \n",
       "1 Cloned 5thgeneration orchestration    Wrightburgh    0    Tunisia   \n",
       "2 Monitored national standardization    West Jodi      1    Nauru     \n",
       "3 Organic bottom-line service-desk      Davidton       0    San Marino\n",
       "4 Triple-buffered reciprocal time-frame West Terrifurt 1    Italy     \n",
       "5 Robust logistical utilization         South Manuel   0    Iceland   \n",
       "6 Sharable client-driven software       Jamieberg      1    Norway    \n",
       "  Timestamp           Clicked.on.Ad\n",
       "1 2016-03-27 00:53:11 0            \n",
       "2 2016-04-04 01:39:02 0            \n",
       "3 2016-03-13 20:35:42 0            \n",
       "4 2016-01-10 02:31:19 0            \n",
       "5 2016-06-03 03:36:18 0            \n",
       "6 2016-05-19 14:30:17 0            "
      ]
     },
     "metadata": {},
     "output_type": "display_data"
    }
   ],
   "source": [
    "head(ads)"
   ]
  },
  {
   "cell_type": "code",
   "execution_count": 74,
   "metadata": {},
   "outputs": [
    {
     "ename": "ERROR",
     "evalue": "Error in scatterplot.matrix(Daily.Internet.Usage, data = ads): could not find function \"scatterplot.matrix\"\n",
     "output_type": "error",
     "traceback": [
      "Error in scatterplot.matrix(Daily.Internet.Usage, data = ads): could not find function \"scatterplot.matrix\"\nTraceback:\n"
     ]
    }
   ],
   "source": [
    "# Scatterplot Matrices from the car Package\n",
    "library(car)\n",
    "scatterplot.matrix(Daily.Internet.Usage, data=ads)"
   ]
  },
  {
   "cell_type": "code",
   "execution_count": 71,
   "metadata": {},
   "outputs": [
    {
     "name": "stderr",
     "output_type": "stream",
     "text": [
      "also installing the dependencies 'zip', 'SparseM', 'MatrixModels', 'sp', 'openxlsx', 'minqa', 'nloptr', 'RcppEigen', 'carData', 'abind', 'pbkrtest', 'quantreg', 'maptools', 'rio', 'lme4'\n",
      "\n"
     ]
    },
    {
     "name": "stdout",
     "output_type": "stream",
     "text": [
      "package 'zip' successfully unpacked and MD5 sums checked\n",
      "package 'SparseM' successfully unpacked and MD5 sums checked\n",
      "package 'MatrixModels' successfully unpacked and MD5 sums checked\n",
      "package 'sp' successfully unpacked and MD5 sums checked\n",
      "package 'openxlsx' successfully unpacked and MD5 sums checked\n",
      "package 'minqa' successfully unpacked and MD5 sums checked\n",
      "package 'nloptr' successfully unpacked and MD5 sums checked\n",
      "package 'RcppEigen' successfully unpacked and MD5 sums checked\n",
      "package 'carData' successfully unpacked and MD5 sums checked\n",
      "package 'abind' successfully unpacked and MD5 sums checked\n",
      "package 'pbkrtest' successfully unpacked and MD5 sums checked\n",
      "package 'quantreg' successfully unpacked and MD5 sums checked\n",
      "package 'maptools' successfully unpacked and MD5 sums checked\n",
      "package 'rio' successfully unpacked and MD5 sums checked\n",
      "package 'lme4' successfully unpacked and MD5 sums checked\n",
      "package 'car' successfully unpacked and MD5 sums checked\n",
      "\n",
      "The downloaded binary packages are in\n",
      "\tC:\\Users\\USER\\AppData\\Local\\Temp\\RtmpCMshFn\\downloaded_packages\n"
     ]
    }
   ],
   "source": [
    "install.packages(\"car\")"
   ]
  },
  {
   "cell_type": "code",
   "execution_count": 77,
   "metadata": {},
   "outputs": [
    {
     "name": "stdout",
     "output_type": "stream",
     "text": [
      "package 'xgboost' successfully unpacked and MD5 sums checked\n",
      "\n",
      "The downloaded binary packages are in\n",
      "\tC:\\Users\\USER\\AppData\\Local\\Temp\\RtmpCMshFn\\downloaded_packages\n"
     ]
    }
   ],
   "source": [
    "install.packages(\"xgboost\")"
   ]
  },
  {
   "cell_type": "code",
   "execution_count": 10,
   "metadata": {},
   "outputs": [],
   "source": [
    "# dropping the unnecessary columns that will not be used for analysis.\n",
    "ads = ads[-5]\n",
    "ads = ads[-5]\n",
    "ads = ads[-7]\n",
    "ads = ads[-6]"
   ]
  },
  {
   "cell_type": "code",
   "execution_count": 11,
   "metadata": {
    "scrolled": true
   },
   "outputs": [
    {
     "data": {
      "text/html": [
       "<table>\n",
       "<thead><tr><th scope=col>Daily.Time.Spent.on.Site</th><th scope=col>Age</th><th scope=col>Area.Income</th><th scope=col>Daily.Internet.Usage</th><th scope=col>Male</th><th scope=col>Clicked.on.Ad</th></tr></thead>\n",
       "<tbody>\n",
       "\t<tr><td>68.95   </td><td>35      </td><td>61833.90</td><td>256.09  </td><td>0       </td><td>0       </td></tr>\n",
       "\t<tr><td>80.23   </td><td>31      </td><td>68441.85</td><td>193.77  </td><td>1       </td><td>0       </td></tr>\n",
       "\t<tr><td>69.47   </td><td>26      </td><td>59785.94</td><td>236.50  </td><td>0       </td><td>0       </td></tr>\n",
       "\t<tr><td>74.15   </td><td>29      </td><td>54806.18</td><td>245.89  </td><td>1       </td><td>0       </td></tr>\n",
       "\t<tr><td>68.37   </td><td>35      </td><td>73889.99</td><td>225.58  </td><td>0       </td><td>0       </td></tr>\n",
       "\t<tr><td>59.99   </td><td>23      </td><td>59761.56</td><td>226.74  </td><td>1       </td><td>0       </td></tr>\n",
       "</tbody>\n",
       "</table>\n"
      ],
      "text/latex": [
       "\\begin{tabular}{r|llllll}\n",
       " Daily.Time.Spent.on.Site & Age & Area.Income & Daily.Internet.Usage & Male & Clicked.on.Ad\\\\\n",
       "\\hline\n",
       "\t 68.95    & 35       & 61833.90 & 256.09   & 0        & 0       \\\\\n",
       "\t 80.23    & 31       & 68441.85 & 193.77   & 1        & 0       \\\\\n",
       "\t 69.47    & 26       & 59785.94 & 236.50   & 0        & 0       \\\\\n",
       "\t 74.15    & 29       & 54806.18 & 245.89   & 1        & 0       \\\\\n",
       "\t 68.37    & 35       & 73889.99 & 225.58   & 0        & 0       \\\\\n",
       "\t 59.99    & 23       & 59761.56 & 226.74   & 1        & 0       \\\\\n",
       "\\end{tabular}\n"
      ],
      "text/markdown": [
       "\n",
       "| Daily.Time.Spent.on.Site | Age | Area.Income | Daily.Internet.Usage | Male | Clicked.on.Ad |\n",
       "|---|---|---|---|---|---|\n",
       "| 68.95    | 35       | 61833.90 | 256.09   | 0        | 0        |\n",
       "| 80.23    | 31       | 68441.85 | 193.77   | 1        | 0        |\n",
       "| 69.47    | 26       | 59785.94 | 236.50   | 0        | 0        |\n",
       "| 74.15    | 29       | 54806.18 | 245.89   | 1        | 0        |\n",
       "| 68.37    | 35       | 73889.99 | 225.58   | 0        | 0        |\n",
       "| 59.99    | 23       | 59761.56 | 226.74   | 1        | 0        |\n",
       "\n"
      ],
      "text/plain": [
       "  Daily.Time.Spent.on.Site Age Area.Income Daily.Internet.Usage Male\n",
       "1 68.95                    35  61833.90    256.09               0   \n",
       "2 80.23                    31  68441.85    193.77               1   \n",
       "3 69.47                    26  59785.94    236.50               0   \n",
       "4 74.15                    29  54806.18    245.89               1   \n",
       "5 68.37                    35  73889.99    225.58               0   \n",
       "6 59.99                    23  59761.56    226.74               1   \n",
       "  Clicked.on.Ad\n",
       "1 0            \n",
       "2 0            \n",
       "3 0            \n",
       "4 0            \n",
       "5 0            \n",
       "6 0            "
      ]
     },
     "metadata": {},
     "output_type": "display_data"
    }
   ],
   "source": [
    "head(ads)"
   ]
  },
  {
   "cell_type": "code",
   "execution_count": 12,
   "metadata": {},
   "outputs": [],
   "source": [
    "\n",
    "label = ads[6]\n"
   ]
  },
  {
   "cell_type": "code",
   "execution_count": 20,
   "metadata": {},
   "outputs": [
    {
     "name": "stdout",
     "output_type": "stream",
     "text": [
      "[1]\ttrain-rmse:0.795184 \n",
      "[2]\ttrain-rmse:0.574747 \n",
      "[3]\ttrain-rmse:0.423427 \n",
      "[4]\ttrain-rmse:0.321728 \n",
      "[5]\ttrain-rmse:0.254058 \n",
      "[6]\ttrain-rmse:0.205232 \n",
      "[7]\ttrain-rmse:0.168215 \n",
      "[8]\ttrain-rmse:0.146056 \n",
      "[9]\ttrain-rmse:0.129732 \n",
      "[10]\ttrain-rmse:0.116455 \n",
      "[11]\ttrain-rmse:0.109553 \n",
      "[12]\ttrain-rmse:0.102805 \n",
      "[13]\ttrain-rmse:0.099282 \n",
      "[14]\ttrain-rmse:0.093792 \n",
      "[15]\ttrain-rmse:0.089977 \n",
      "[16]\ttrain-rmse:0.088631 \n",
      "[17]\ttrain-rmse:0.087545 \n",
      "[18]\ttrain-rmse:0.085177 \n",
      "[19]\ttrain-rmse:0.080045 \n",
      "[20]\ttrain-rmse:0.075332 \n",
      "[21]\ttrain-rmse:0.073937 \n",
      "[22]\ttrain-rmse:0.072551 \n",
      "[23]\ttrain-rmse:0.070118 \n",
      "[24]\ttrain-rmse:0.066286 \n",
      "[25]\ttrain-rmse:0.065972 \n",
      "[26]\ttrain-rmse:0.063454 \n",
      "[27]\ttrain-rmse:0.060615 \n",
      "[28]\ttrain-rmse:0.057430 \n",
      "[29]\ttrain-rmse:0.055456 \n",
      "[30]\ttrain-rmse:0.054608 \n"
     ]
    },
    {
     "data": {
      "text/plain": [
       "               Length Class              Mode       \n",
       "handle             1  xgb.Booster.handle externalptr\n",
       "raw            62093  -none-             raw        \n",
       "niter              1  -none-             numeric    \n",
       "evaluation_log     2  data.table         list       \n",
       "call              13  -none-             call       \n",
       "params             1  -none-             list       \n",
       "callbacks          2  -none-             list       \n",
       "feature_names      4  -none-             character  \n",
       "nfeatures          1  -none-             numeric    "
      ]
     },
     "metadata": {},
     "output_type": "display_data"
    }
   ],
   "source": [
    "#\n",
    "a = nrow(ads)\n",
    "a1 = floor(a*(0.7))\n",
    "a2 = a-a1\n",
    "\n",
    "set.seed(100)\n",
    "ind = sample(1:a, a1, replace = FALSE)\n",
    "train = ads[ind,]\n",
    "test = ads[-ind,]\n",
    "x_train = train %>% select(-c(Clicked.on.Ad))%>%as.matrix()\n",
    "y_train = train$Clicked.on.Ad %>% as.factor()\n",
    "\n",
    "model = xgboost(data=data.matrix(x_train[, -1]), label=y_train, nround=30)\n",
    "summary(model)"
   ]
  },
  {
   "cell_type": "code",
   "execution_count": 21,
   "metadata": {},
   "outputs": [
    {
     "data": {
      "text/plain": [
       "      gg1\n",
       "y_test   1   2\n",
       "     0 136   8\n",
       "     1  18 138"
      ]
     },
     "metadata": {},
     "output_type": "display_data"
    }
   ],
   "source": [
    "x_test = test %>% select(-c(Clicked.on.Ad))\n",
    "x_test = data.matrix(x_test[, -1])\n",
    "y_test = test$Clicked.on.Ad %>% as.factor()\n",
    "y_pred = predict(model, x_test)\n",
    "gg1=floor(y_pred+0.5)\n",
    "ttt = table(y_test, gg1)\n",
    "ttt"
   ]
  },
  {
   "cell_type": "code",
   "execution_count": 116,
   "metadata": {},
   "outputs": [
    {
     "name": "stdout",
     "output_type": "stream",
     "text": [
      "package 'ROSE' successfully unpacked and MD5 sums checked\n",
      "\n",
      "The downloaded binary packages are in\n",
      "\tC:\\Users\\USER\\AppData\\Local\\Temp\\RtmpCMshFn\\downloaded_packages\n"
     ]
    }
   ],
   "source": [
    "install.packages(\"ROSE\")"
   ]
  },
  {
   "cell_type": "code",
   "execution_count": 122,
   "metadata": {},
   "outputs": [
    {
     "ename": "ERROR",
     "evalue": "Error in xgb.model.dt.tree(feature_names = feature_names, model = model, : trying to get slot \"Dimnames\" from an object (class \"data.frame\") that is not an S4 object \n",
     "output_type": "error",
     "traceback": [
      "Error in xgb.model.dt.tree(feature_names = feature_names, model = model, : trying to get slot \"Dimnames\" from an object (class \"data.frame\") that is not an S4 object \nTraceback:\n",
      "1. xgb.plot.tree(feature_names = ads@Dimnames[[2]], model = model)",
      "2. xgb.model.dt.tree(feature_names = feature_names, model = model, \n .     trees = trees)"
     ]
    }
   ],
   "source": [
    "xgb.plot.tree(f model = model)"
   ]
  },
  {
   "cell_type": "code",
   "execution_count": 118,
   "metadata": {},
   "outputs": [
    {
     "name": "stderr",
     "output_type": "stream",
     "text": [
      "also installing the dependencies 'brew', 'XML', 'Rook', 'gridExtra', 'downloader', 'igraph', 'influenceR', 'rgexf', 'viridis', 'visNetwork'\n",
      "\n"
     ]
    },
    {
     "name": "stdout",
     "output_type": "stream",
     "text": [
      "package 'brew' successfully unpacked and MD5 sums checked\n",
      "package 'XML' successfully unpacked and MD5 sums checked\n",
      "package 'Rook' successfully unpacked and MD5 sums checked\n",
      "package 'gridExtra' successfully unpacked and MD5 sums checked\n",
      "package 'downloader' successfully unpacked and MD5 sums checked\n",
      "package 'igraph' successfully unpacked and MD5 sums checked\n",
      "package 'influenceR' successfully unpacked and MD5 sums checked\n",
      "package 'rgexf' successfully unpacked and MD5 sums checked\n",
      "package 'viridis' successfully unpacked and MD5 sums checked\n",
      "package 'visNetwork' successfully unpacked and MD5 sums checked\n",
      "package 'DiagrammeR' successfully unpacked and MD5 sums checked\n",
      "\n",
      "The downloaded binary packages are in\n",
      "\tC:\\Users\\USER\\AppData\\Local\\Temp\\RtmpCMshFn\\downloaded_packages\n"
     ]
    }
   ],
   "source": [
    "install.packages(\"DiagrammeR\")"
   ]
  },
  {
   "cell_type": "code",
   "execution_count": 123,
   "metadata": {},
   "outputs": [
    {
     "name": "stderr",
     "output_type": "stream",
     "text": [
      "Warning message in xgb.importance(colnames(ads %>% select(-c(Clicked.on.Ad))), label = ads$clicked.on.Ad, :\n",
      "\"xgb.importance: parameters 'data', 'label' and 'target' are deprecated\""
     ]
    },
    {
     "data": {
      "text/html": [
       "<table>\n",
       "<thead><tr><th scope=col>Feature</th><th scope=col>Gain</th><th scope=col>Cover</th><th scope=col>Frequency</th></tr></thead>\n",
       "<tbody>\n",
       "\t<tr><td>Area.Income             </td><td>0.7976703400            </td><td>0.478689529             </td><td>0.35907336              </td></tr>\n",
       "\t<tr><td>Age                     </td><td>0.1256648777            </td><td>0.319037531             </td><td>0.36486486              </td></tr>\n",
       "\t<tr><td>Daily.Time.Spent.on.Site</td><td>0.0758714679            </td><td>0.199608298             </td><td>0.26061776              </td></tr>\n",
       "\t<tr><td>Daily.Internet.Usage    </td><td>0.0007933144            </td><td>0.002664642             </td><td>0.01544402              </td></tr>\n",
       "</tbody>\n",
       "</table>\n"
      ],
      "text/latex": [
       "\\begin{tabular}{r|llll}\n",
       " Feature & Gain & Cover & Frequency\\\\\n",
       "\\hline\n",
       "\t Area.Income              & 0.7976703400             & 0.478689529              & 0.35907336              \\\\\n",
       "\t Age                      & 0.1256648777             & 0.319037531              & 0.36486486              \\\\\n",
       "\t Daily.Time.Spent.on.Site & 0.0758714679             & 0.199608298              & 0.26061776              \\\\\n",
       "\t Daily.Internet.Usage     & 0.0007933144             & 0.002664642              & 0.01544402              \\\\\n",
       "\\end{tabular}\n"
      ],
      "text/markdown": [
       "\n",
       "| Feature | Gain | Cover | Frequency |\n",
       "|---|---|---|---|\n",
       "| Area.Income              | 0.7976703400             | 0.478689529              | 0.35907336               |\n",
       "| Age                      | 0.1256648777             | 0.319037531              | 0.36486486               |\n",
       "| Daily.Time.Spent.on.Site | 0.0758714679             | 0.199608298              | 0.26061776               |\n",
       "| Daily.Internet.Usage     | 0.0007933144             | 0.002664642              | 0.01544402               |\n",
       "\n"
      ],
      "text/plain": [
       "  Feature                  Gain         Cover       Frequency \n",
       "1 Area.Income              0.7976703400 0.478689529 0.35907336\n",
       "2 Age                      0.1256648777 0.319037531 0.36486486\n",
       "3 Daily.Time.Spent.on.Site 0.0758714679 0.199608298 0.26061776\n",
       "4 Daily.Internet.Usage     0.0007933144 0.002664642 0.01544402"
      ]
     },
     "metadata": {},
     "output_type": "display_data"
    }
   ],
   "source": [
    "xgb.importance(colnames(ads %>% select(-c(Clicked.on.Ad))), label = ads$clicked.on.Ad, model = model, data=x_train)"
   ]
  },
  {
   "cell_type": "markdown",
   "metadata": {},
   "source": [
    "> From the above results, we can conclude that Area income is the feature thats has the most predictive power in predicting whether a person clicked an ad or not while daily internet was not important in predicting the same."
   ]
  },
  {
   "cell_type": "code",
   "execution_count": null,
   "metadata": {},
   "outputs": [],
   "source": []
  }
 ],
 "metadata": {
  "kernelspec": {
   "display_name": "R",
   "language": "R",
   "name": "ir"
  },
  "language_info": {
   "codemirror_mode": "r",
   "file_extension": ".r",
   "mimetype": "text/x-r-source",
   "name": "R",
   "pygments_lexer": "r",
   "version": "3.6.1"
  }
 },
 "nbformat": 4,
 "nbformat_minor": 2
}
